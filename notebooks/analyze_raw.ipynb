{
 "cells": [
  {
   "cell_type": "code",
   "execution_count": null,
   "metadata": {},
   "outputs": [],
   "source": [
    "import pickle\n",
    "import pathlib\n",
    "import pandas as pd\n",
    "import seaborn as sns\n",
    "\n",
    "pickle_file = \"/hdd/diabbimmune_t2d/test4/raw_scores.pkl\"\n",
    "with open(pickle_file, \"rb\") as of:\n",
    "    data = pickle.load(of)\n",
    "    strain_names = pickle.load(of)"
   ]
  },
  {
   "cell_type": "markdown",
   "metadata": {},
   "source": [
    "<!-- @format -->\n"
   ]
  },
  {
   "cell_type": "code",
   "execution_count": 32,
   "metadata": {},
   "outputs": [
    {
     "data": {
      "text/plain": [
       "C2DWNACXX130830:8:1101:20648:88868/1    213\n",
       "C2DWNACXX130830:8:1102:10205:61735/1    187\n",
       "C2DWNACXX130830:8:1101:15934:51179/1    213\n",
       "C2DWNACXX130830:8:1102:19775:41644/1    213\n",
       "C2DWNACXX130830:8:1102:16460:30937/1    142\n",
       "                                       ... \n",
       "C2DWNACXX130830:8:1101:14845:64146/1      0\n",
       "C2DWNACXX130830:8:1101:14843:73671/1      0\n",
       "C2DWNACXX130830:8:1101:14842:21730/1      0\n",
       "C2DWNACXX130830:8:1101:14840:40615/1      0\n",
       "C2DWNACXX130830:8:1102:20863:51715/1      0\n",
       "Length: 25000, dtype: int64"
      ]
     },
     "execution_count": 32,
     "metadata": {},
     "output_type": "execute_result"
    }
   ],
   "source": [
    "df = pd.DataFrame.from_dict(dict(data), orient=\"index\", columns=strain_names)\n",
    "df = df.sort_values(by=df.columns[0], ascending=False)"
   ]
  },
  {
   "cell_type": "code",
   "execution_count": null,
   "metadata": {},
   "outputs": [],
   "source": []
  }
 ],
 "metadata": {
  "kernelspec": {
   "display_name": "datasci",
   "language": "python",
   "name": "python3"
  },
  "language_info": {
   "codemirror_mode": {
    "name": "ipython",
    "version": 3
   },
   "file_extension": ".py",
   "mimetype": "text/x-python",
   "name": "python",
   "nbconvert_exporter": "python",
   "pygments_lexer": "ipython3",
   "version": "3.12.6"
  },
  "orig_nbformat": 4
 },
 "nbformat": 4,
 "nbformat_minor": 2
}
